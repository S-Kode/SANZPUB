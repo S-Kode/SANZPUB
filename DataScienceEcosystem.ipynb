{
  "metadata": {
    "kernelspec": {
      "name": "python",
      "display_name": "Python (Pyodide)",
      "language": "python"
    },
    "language_info": {
      "codemirror_mode": {
        "name": "python",
        "version": 3
      },
      "file_extension": ".py",
      "mimetype": "text/x-python",
      "name": "python",
      "nbconvert_exporter": "python",
      "pygments_lexer": "ipython3",
      "version": "3.8"
    }
  },
  "nbformat_minor": 4,
  "nbformat": 4,
  "cells": [
    {
      "cell_type": "markdown",
      "source": "# Data Science Tools and Ecosystem",
      "metadata": {}
    },
    {
      "cell_type": "markdown",
      "source": "## In this notebook, Data Science Tools and Ecosystem are summarized.",
      "metadata": {}
    },
    {
      "cell_type": "markdown",
      "source": "#### **Objectives:**\n\n* **List popular languages for Data Science:** Some of the commonly used programming languages in data science, including Python, R, and SQL.\n\n* **Explore Data Science Libraries:**  The notebook introduces essential data science libraries in Python, such as NumPy, Pandas, and Scikit-learn.\n\n* **Utilize Markdown for Documentation:**  The basics of using markdown for creating formatted and informative text cells within Jupyter notebooks.\n\n* **Perform Arithmetic Operations:** The notebook demonstrates how to perform basic arithmetic calculations using Python code.\n\n* **Convert Units:** How to write Python code to convert between different units, such as minutes to hours.\n",
      "metadata": {}
    },
    {
      "cell_type": "markdown",
      "source": "## Some of the popular languages that Data Scientists use are:\n\n1. **Python:**\n2. **R:**\n3. **SQL:**",
      "metadata": {}
    },
    {
      "cell_type": "markdown",
      "source": "## Some of the commonly used libraries used by Data Scientists include:\n\n1. **NumPy (Numerical Python):** \n2. **Pandas:** \n3. **Scikit-learn (Scikit-learn machine learning):**\n4. **Matplotlib and Seaborn:** ",
      "metadata": {}
    },
    {
      "cell_type": "markdown",
      "source": "## Data Science Tools\n\n| Data Science Tools |\n|--------------------|\n| Jupyter Notebook |\n| PyCharm |\n| Visual Studio Code |",
      "metadata": {}
    },
    {
      "cell_type": "markdown",
      "source": "## Arithmetic expression examples in Python\n### Below are a few examples of evaluating arithmetic expressions in Python.\n#### Addition\nresult = 5 + 3\nprint(result)  # Output: 8\n\n#### Subtraction\ndifference = 10 - 2\nprint(difference)  # Output: 8\n\n#### Multiplication\nproduct = 4 * 6\nprint(product)  # Output: 24\n\n#### Division (notice the result is a float)\nquotient = 15 / 3\nprint(quotient)  # Output: 5.0",
      "metadata": {}
    },
    {
      "cell_type": "markdown",
      "source": "#### This is a simple arithmetic expression to multiply then add integers\nresult = (3 * 4) + 5\n\n#### Print the result\nprint(result)",
      "metadata": {}
    },
    {
      "cell_type": "markdown",
      "source": "#### This will convert 200 minutes to hours by dividing by 60 (minutes per hour)\nminutes = 200\nhours = minutes / 60\n\n#### Print the result in a descriptive way\nprint(f\"{minutes} minutes is equivalent to {hours:.2f} hours.\")",
      "metadata": {}
    },
    {
      "cell_type": "markdown",
      "source": "## Author\nSandra Kunneparambil",
      "metadata": {}
    },
    {
      "cell_type": "code",
      "source": "",
      "metadata": {
        "trusted": true
      },
      "outputs": [],
      "execution_count": null
    }
  ]
}